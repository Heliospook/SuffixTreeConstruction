{
 "cells": [
  {
   "cell_type": "code",
   "execution_count": 9,
   "metadata": {},
   "outputs": [],
   "source": [
    "from random import choice, randint\n",
    "chars = [chr(x) for x in range(97, 111)]\n",
    "def getRandomString(len):\n",
    "    text = \"\"\n",
    "    for i in range(len):\n",
    "        text += (choice(chars))\n",
    "    return text\n",
    "\n",
    "\n",
    "m, numCorrect, numWrong = 100000, 500, 500\n",
    "text = getRandomString(m)\n",
    "    \n",
    "patterns = []\n",
    "for i in range(numCorrect):\n",
    "    start = randint(0, m - 1)\n",
    "    end = randint(start, m - 1)\n",
    "    pattern = text[start : end + 1]\n",
    "    patterns.append(pattern)\n",
    "    \n",
    "for i in range(numWrong):\n",
    "    start = randint(0, m - 1)\n",
    "    end = randint(start, min(m - 1, start + m//5))\n",
    "    pattern = getRandomString(m//10) + text[start : end + 1] + getRandomString(m//10)\n",
    "    patterns.append(pattern)\n",
    "    \n",
    "with open(\"input.in\", \"w\") as f:\n",
    "    f.write(f\"{text}\\n\")\n",
    "    f.write(f\"{len(patterns)}\\n\")\n",
    "    for pattern in patterns : \n",
    "        f.write(f\"{pattern}\\n\")"
   ]
  },
  {
   "cell_type": "code",
   "execution_count": null,
   "metadata": {},
   "outputs": [],
   "source": []
  }
 ],
 "metadata": {
  "kernelspec": {
   "display_name": "Python 3",
   "language": "python",
   "name": "python3"
  },
  "language_info": {
   "codemirror_mode": {
    "name": "ipython",
    "version": 3
   },
   "file_extension": ".py",
   "mimetype": "text/x-python",
   "name": "python",
   "nbconvert_exporter": "python",
   "pygments_lexer": "ipython3",
   "version": "3.10.8"
  }
 },
 "nbformat": 4,
 "nbformat_minor": 2
}
